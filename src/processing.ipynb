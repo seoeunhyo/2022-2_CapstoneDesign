{
 "cells": [
  {
   "cell_type": "code",
   "execution_count": 2,
   "id": "f9f17c0c",
   "metadata": {},
   "outputs": [],
   "source": [
    "import re\n",
    "import os\n",
    "import pandas as pd\n",
    "from tqdm.notebook import tqdm\n",
    "from collections import Counter\n",
    "\n",
    "from konlpy.tag import Okt\n",
    "okt = Okt()\n",
    "\n",
    "#비속어사전\n",
    "from urllib.request import urlopen\n",
    "import json\n",
    "url = \"https://raw.githubusercontent.com/organization/Gentleman/master/resources/badwords.json\"\n",
    "response = urlopen(url)\n",
    "data_json = json.loads(response.read())  "
   ]
  },
  {
   "cell_type": "code",
   "execution_count": 55,
   "id": "24d28580",
   "metadata": {},
   "outputs": [],
   "source": [
    "#영어,숫자,특수문자,한글자 단어 제거\n",
    "def text_preprocessor(s):\n",
    "    pattern = r'[^가-힣]'\n",
    "    s = re.sub(pattern=pattern, repl=' ', string=s)\n",
    "    \n",
    "    #표제어추출\n",
    "    s_split = okt.morphs(s, stem=True)\n",
    "      \n",
    "    s_list = []\n",
    "    for word in s_split:\n",
    "        if len(word) !=1:\n",
    "            s_list.append(word)\n",
    "            \n",
    "    return s_list"
   ]
  },
  {
   "cell_type": "code",
   "execution_count": 56,
   "id": "730bd9fc",
   "metadata": {},
   "outputs": [],
   "source": [
    "kmbti = ['인프젠데',\n",
    " '엔프젠데',\n",
    " '엣팁입니',\n",
    " '엔프피특',\n",
    " '잉뿌삐',\n",
    " '엣프제',\n",
    " '엔프핀데',\n",
    " '엣티제',\n",
    " '엣프피',\n",
    " '엔트제',\n",
    " '엣프핀데',\n",
    " '티젠데',\n",
    " '인프피님들',\n",
    " '인티',\n",
    " '찐인프피',\n",
    " '유미',\n",
    " '엣프',\n",
    " '잇프피님들',\n",
    " '엔뿌삐',\n",
    " '엣팁인데',\n",
    " '엣팁',\n",
    " '엣티젠데',\n",
    " '엔프제',\n",
    " '잉뿌삐들',\n",
    " '엔프피',\n",
    " '인프피특',\n",
    " '잇프피인줄',\n",
    " '인팁',\n",
    " '인트제',\n",
    " '엣팁들',\n",
    " '인프',\n",
    " '프피',\n",
    " '잇티제',\n",
    " '엡팁',\n",
    " '인프피',\n",
    " '인프핀데',\n",
    " '앤팁',\n",
    " '잇프피',\n",
    " '엣티제들',\n",
    " '인티젠데',\n",
    " '엣티',\n",
    " '잇프피들',\n",
    " '찐프피',\n",
    " '엔쁘삐',\n",
    " '인프피들',\n",
    " '강유미',\n",
    " '엠비티아이',\n",
    " '엣프피들',\n",
    " '엥뿌삐',\n",
    " '인뿌삐',\n",
    " '잇프',\n",
    " '잇프젠데',\n",
    " '엥뿌삐들',\n",
    " '엔프피들',\n",
    " '인티제',\n",
    " '프제',\n",
    " '인프피로',\n",
    " '잇프핀데',\n",
    " '엣프젠데',\n",
    " '티제',\n",
    " '잇프피입니',\n",
    " '엔프']"
   ]
  },
  {
   "cell_type": "code",
   "execution_count": 57,
   "id": "f2b05c57",
   "metadata": {},
   "outputs": [],
   "source": [
    "def words_tokonizer(text):\n",
    "    words = []    \n",
    "    s_list = text_preprocessor(text)\n",
    "    norm_txt = okt.normalize(' '.join(s_list))\n",
    "    pos_lst = okt.pos(norm_txt)\n",
    "    \n",
    "    \n",
    "    #접속사, 조사, ㅋㅋ,  비속어, 엣푸피(kmbti) 아니라면 제거.\n",
    "    for word, pos in pos_lst:\n",
    "        #print(word, pos)\n",
    "        # & (word not in kmbti)\n",
    "        if (pos != 'Conjunction') & (pos != 'KoreanParticle') & (pos != 'Josa') & (word not in data_json['badwords']) & (word not in kmbti) & (len(word) > 1) :\n",
    "            words.append(word)\n",
    "    return words"
   ]
  },
  {
   "cell_type": "code",
   "execution_count": 59,
   "id": "51f673df",
   "metadata": {
    "scrolled": false
   },
   "outputs": [
    {
     "data": {
      "application/vnd.jupyter.widget-view+json": {
       "model_id": "b5ba0f053f014cafa3c9af67cb0583bd",
       "version_major": 2,
       "version_minor": 0
      },
      "text/plain": [
       "  0%|          | 0/4023 [00:00<?, ?it/s]"
      ]
     },
     "metadata": {},
     "output_type": "display_data"
    },
    {
     "data": {
      "application/vnd.jupyter.widget-view+json": {
       "model_id": "098eccb43c80444185cd4fda1471bd94",
       "version_major": 2,
       "version_minor": 0
      },
      "text/plain": [
       "  0%|          | 0/4350 [00:00<?, ?it/s]"
      ]
     },
     "metadata": {},
     "output_type": "display_data"
    },
    {
     "data": {
      "application/vnd.jupyter.widget-view+json": {
       "model_id": "af3d48013c024f2db3ae4cf3ac879ded",
       "version_major": 2,
       "version_minor": 0
      },
      "text/plain": [
       "  0%|          | 0/4328 [00:00<?, ?it/s]"
      ]
     },
     "metadata": {},
     "output_type": "display_data"
    },
    {
     "data": {
      "application/vnd.jupyter.widget-view+json": {
       "model_id": "d7e53ee607e3463da82e82ddd466801d",
       "version_major": 2,
       "version_minor": 0
      },
      "text/plain": [
       "  0%|          | 0/5478 [00:00<?, ?it/s]"
      ]
     },
     "metadata": {},
     "output_type": "display_data"
    },
    {
     "data": {
      "application/vnd.jupyter.widget-view+json": {
       "model_id": "b2a1b30d945c4bb88f239e5444f09d02",
       "version_major": 2,
       "version_minor": 0
      },
      "text/plain": [
       "  0%|          | 0/4110 [00:00<?, ?it/s]"
      ]
     },
     "metadata": {},
     "output_type": "display_data"
    },
    {
     "data": {
      "application/vnd.jupyter.widget-view+json": {
       "model_id": "cea5582bb01a4f89beb87668350d4af1",
       "version_major": 2,
       "version_minor": 0
      },
      "text/plain": [
       "  0%|          | 0/4183 [00:00<?, ?it/s]"
      ]
     },
     "metadata": {},
     "output_type": "display_data"
    },
    {
     "data": {
      "application/vnd.jupyter.widget-view+json": {
       "model_id": "0827a21625e24a00beb7dd9b4c7428de",
       "version_major": 2,
       "version_minor": 0
      },
      "text/plain": [
       "  0%|          | 0/4265 [00:00<?, ?it/s]"
      ]
     },
     "metadata": {},
     "output_type": "display_data"
    },
    {
     "data": {
      "application/vnd.jupyter.widget-view+json": {
       "model_id": "2499874230c3491c833ff004993105b4",
       "version_major": 2,
       "version_minor": 0
      },
      "text/plain": [
       "  0%|          | 0/4453 [00:00<?, ?it/s]"
      ]
     },
     "metadata": {},
     "output_type": "display_data"
    },
    {
     "data": {
      "application/vnd.jupyter.widget-view+json": {
       "model_id": "3ab628fa25384ea78b8a30207b60b311",
       "version_major": 2,
       "version_minor": 0
      },
      "text/plain": [
       "  0%|          | 0/5093 [00:00<?, ?it/s]"
      ]
     },
     "metadata": {},
     "output_type": "display_data"
    },
    {
     "data": {
      "application/vnd.jupyter.widget-view+json": {
       "model_id": "8835644bfdfd486fa1dee6a6edbdb063",
       "version_major": 2,
       "version_minor": 0
      },
      "text/plain": [
       "  0%|          | 0/5161 [00:00<?, ?it/s]"
      ]
     },
     "metadata": {},
     "output_type": "display_data"
    },
    {
     "data": {
      "application/vnd.jupyter.widget-view+json": {
       "model_id": "ad442cfb57534cbcad67de511470780a",
       "version_major": 2,
       "version_minor": 0
      },
      "text/plain": [
       "  0%|          | 0/5679 [00:00<?, ?it/s]"
      ]
     },
     "metadata": {},
     "output_type": "display_data"
    },
    {
     "data": {
      "application/vnd.jupyter.widget-view+json": {
       "model_id": "925f377edacf499cb0d5fdd9d8868085",
       "version_major": 2,
       "version_minor": 0
      },
      "text/plain": [
       "  0%|          | 0/6362 [00:00<?, ?it/s]"
      ]
     },
     "metadata": {},
     "output_type": "display_data"
    },
    {
     "data": {
      "application/vnd.jupyter.widget-view+json": {
       "model_id": "db07e6078d4c4f68adaa66865afa79ea",
       "version_major": 2,
       "version_minor": 0
      },
      "text/plain": [
       "  0%|          | 0/5048 [00:00<?, ?it/s]"
      ]
     },
     "metadata": {},
     "output_type": "display_data"
    },
    {
     "data": {
      "application/vnd.jupyter.widget-view+json": {
       "model_id": "be52c3bd9565444a873c1b6178406469",
       "version_major": 2,
       "version_minor": 0
      },
      "text/plain": [
       "  0%|          | 0/6004 [00:00<?, ?it/s]"
      ]
     },
     "metadata": {},
     "output_type": "display_data"
    },
    {
     "data": {
      "application/vnd.jupyter.widget-view+json": {
       "model_id": "a2091a6d5471407399619dc35caaa29d",
       "version_major": 2,
       "version_minor": 0
      },
      "text/plain": [
       "  0%|          | 0/4402 [00:00<?, ?it/s]"
      ]
     },
     "metadata": {},
     "output_type": "display_data"
    },
    {
     "data": {
      "application/vnd.jupyter.widget-view+json": {
       "model_id": "e575c195abe64f06a3f1c3d873aea7ec",
       "version_major": 2,
       "version_minor": 0
      },
      "text/plain": [
       "  0%|          | 0/4624 [00:00<?, ?it/s]"
      ]
     },
     "metadata": {},
     "output_type": "display_data"
    }
   ],
   "source": [
    "#전처리_1 -> text_preprocessor, words_tokonizer, 12글자 이하제거\n",
    "\n",
    "for file in os.listdir('MBTItotal'):\n",
    "    file_name = file.split('_')[0]\n",
    "    df = pd.read_csv(f'MBTItotal/{file}', header=None)\n",
    "    df.columns = ['index', 'id', 'text']\n",
    "    df.drop(['index', 'id'], axis=1, inplace=True)\n",
    "    df.dropna(inplace=True) #결측치(null) 제거\n",
    "    \n",
    "    s_lst = []\n",
    "    text_lst = []\n",
    "    for row in tqdm(df.iterrows(), total=df.shape[0]):\n",
    "        s_lst += words_tokonizer(row[1]['text']) #row[1]['text'] 문자열\n",
    "        \n",
    "        k = ' '.join(words_tokonizer(row[1]['text']))\n",
    "        if len(k)>12 : #12글자 이하 제거\n",
    "            text_lst.append(k)\n",
    "    \n",
    "    df1 = pd.DataFrame(zip(text_lst))\n",
    "    df1.columns = ['new_text']\n",
    "\n",
    "\n",
    "    df1.to_csv(f\"{file_name}.csv\", encoding='utf-8-sig', index=True)\n",
    "    \n",
    "    #단어 빈도수(이 파일 이용해서 빈도수 5이하인 단어 전체 댓글에서 모두제거시 사용.)\n",
    "    '''\n",
    "    count = Counter([s for s in s_lst])\n",
    "    word_freq = pd.DataFrame(count.items(), columns=['word', 'frequency']).sort_values(by='frequency', ascending=False)\n",
    "    word_freq.to_csv(f\"{file_name}_word_freq.csv\", encoding='utf-8-sig', index=False)'''"
   ]
  },
  {
   "cell_type": "code",
   "execution_count": 14,
   "id": "e08a2dcf",
   "metadata": {},
   "outputs": [],
   "source": [
    "#전처리_2 -> 빈도수 5이하인 단어, 댓글에서 모두제거\n",
    "\n",
    "import sys\n",
    "sys.stdout = open('output.txt','w')\n",
    "\n",
    "file_lst = ['enfj_un_word', 'enfp_un_word','entj_un_word','entp_un_word','esfj_un_word','esfp_un_word', \n",
    "            'estj_un_word', 'estp_un_word','infj_un_word','infp_un_word','intj_un_word','intp_un_word',\n",
    "            'isfj_un_word', 'isfp_un_word','istj_un_word','istp_un_word'] #빈도수 5이하인 단어 모아놓은 파일들.\n",
    "\n",
    "for file in os.listdir('MBTI1total'):#1차 전처리 완료된 16개 파일\n",
    "    #file_name = file[:4]+'TT'#나중에저장될 최종파일\n",
    "    \n",
    "    df = pd.read_csv(f'MBTI1total/{file}', header=None)\n",
    "    \n",
    "    total_lst = []\n",
    "    \n",
    "    #un_word contact\n",
    "    contact=file[:4].lower() #해당mbti문자열\n",
    "    print(contact)\n",
    "    \n",
    "    for tt in file_lst : \n",
    "        if contact in tt : \n",
    "            yesmy = tt #yesmy : isfj_un_word\n",
    "    #print(yesmy)\n",
    "    \n",
    "    file1 = f'{yesmy}.csv'\n",
    "    #print(file1)\n",
    "    df2 = pd.read_csv(file1) #un_word 파일 불러오기 -> df2['un_word']\n",
    "    #print(df2)\n",
    "    #print(\"----\")\n",
    "    \n",
    "    target = df2['un_word'].values.tolist() #비교할 un_word리스트***\n",
    "    #print(target)\n",
    "    \n",
    "    for index, row in df.iterrows():\n",
    "        kt = [] #un_word가 없는 하나의 문장.\n",
    "        \n",
    "        n = row[1].split() \n",
    "        #print(n)\n",
    "        \n",
    "        for lk in n :\n",
    "            if lk not in target : \n",
    "                kt.append(lk)\n",
    "        \n",
    "        total_lst.append(kt)\n",
    "        #print(kt)\n",
    "                \n",
    "    print(total_lst)"
   ]
  }
 ],
 "metadata": {
  "kernelspec": {
   "display_name": "Python 3 (ipykernel)",
   "language": "python",
   "name": "python3"
  },
  "language_info": {
   "codemirror_mode": {
    "name": "ipython",
    "version": 3
   },
   "file_extension": ".py",
   "mimetype": "text/x-python",
   "name": "python",
   "nbconvert_exporter": "python",
   "pygments_lexer": "ipython3",
   "version": "3.9.12"
  }
 },
 "nbformat": 4,
 "nbformat_minor": 5
}
